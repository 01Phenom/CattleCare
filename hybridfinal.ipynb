{
 "cells": [
  {
   "cell_type": "code",
   "execution_count": 1,
   "metadata": {},
   "outputs": [],
   "source": [
    "import os\n",
    "import pandas as pd\n",
    "from PIL import Image\n",
    "import torch\n",
    "from torch.utils.data import Dataset, DataLoader\n",
    "from torchvision import transforms, models\n",
    "from ultralytics import YOLO\n",
    "import matplotlib.pyplot as plt\n",
    "from sklearn.metrics import accuracy_score, precision_score, recall_score, f1_score"
   ]
  },
  {
   "cell_type": "code",
   "execution_count": 2,
   "metadata": {},
   "outputs": [],
   "source": [
    "# PART 1 - Dataset Preparation\n",
    "class CattleDataset(Dataset):\n",
    "    def __init__(self, annotations_file, img_dir, transform=None):\n",
    "        self.annotations = pd.read_csv(annotations_file)\n",
    "        self.img_dir = img_dir\n",
    "        self.transform = transform\n",
    "\n",
    "    def __len__(self):\n",
    "        return len(self.annotations)\n",
    "\n",
    "    def __getitem__(self, idx):\n",
    "        img_filename = self.annotations.iloc[idx, 0]\n",
    "        img_path = os.path.join(self.img_dir, img_filename)\n",
    "        image = Image.open(img_path).convert(\"RGB\")\n",
    "\n",
    "        # Fetch bounding boxes and class label\n",
    "        boxes = self.annotations.iloc[idx, 4:8].values.astype(float)\n",
    "        label = self.annotations.iloc[idx, 3]  # The class label\n",
    "\n",
    "        if self.transform:\n",
    "            image = self.transform(image)\n",
    "\n",
    "        label_tensor = torch.tensor(self.get_class_id(label), dtype=torch.long)\n",
    "        return image, boxes, label_tensor\n",
    "\n",
    "    def get_class_id(self, class_name):\n",
    "        class_map = {\n",
    "            'Infected_Foot_Image': 0,\n",
    "            'Mouth Disease Infected': 1,\n",
    "            'Normal_Healthy_Cow': 2,\n",
    "            'Normal_Mouth_Image': 3,\n",
    "            'lumpy skin': 4\n",
    "        }\n",
    "        return class_map.get(class_name, -1)\n",
    "\n",
    "# Define transformations for the dataset\n",
    "transform = transforms.Compose([\n",
    "    transforms.Resize((224, 224)),\n",
    "    transforms.ToTensor(),\n",
    "])"
   ]
  },
  {
   "cell_type": "code",
   "execution_count": 3,
   "metadata": {},
   "outputs": [],
   "source": [
    "# Function to create DataLoader\n",
    "def get_data_loader(annotations_file, img_dir, batch_size=32, shuffle=True, transform=None):\n",
    "    dataset = CattleDataset(annotations_file, img_dir, transform=transform)\n",
    "    return DataLoader(dataset, batch_size=batch_size, shuffle=shuffle)"
   ]
  },
  {
   "cell_type": "code",
   "execution_count": 4,
   "metadata": {},
   "outputs": [],
   "source": [
    "# PART 2 - Hybrid Model Definition\n",
    "class HybridYOLOEfficientNet(torch.nn.Module):\n",
    "    def __init__(self, yolo_model, efficientnet_model):\n",
    "        super(HybridYOLOEfficientNet, self).__init__()\n",
    "        self.yolo_model = yolo_model.model\n",
    "        self.efficientnet = efficientnet_model.features\n",
    "        \n",
    "        # Dynamically find the size of the feature output from EfficientNet\n",
    "        with torch.no_grad():\n",
    "            dummy_input = torch.randn(1, 3, 224, 224)\n",
    "            features_size = self.efficientnet(dummy_input).view(1, -1).size(1)\n",
    "\n",
    "        self.fc = torch.nn.Linear(features_size, 256)\n",
    "        self.output = torch.nn.Linear(256, 5)\n",
    "\n",
    "    def forward(self, x):\n",
    "        detection_results = self.yolo_model(x)\n",
    "        features = self.efficientnet(x)\n",
    "        features = torch.flatten(features, 1)\n",
    "        features = torch.relu(self.fc(features))\n",
    "        class_outputs = self.output(features)\n",
    "        return class_outputs, detection_results"
   ]
  },
  {
   "cell_type": "code",
   "execution_count": 5,
   "metadata": {},
   "outputs": [],
   "source": [
    "def train_model(model, data_loader, criterion, optimizer, device, epochs=10):\n",
    "    model.train()\n",
    "    training_loss = []\n",
    "    training_accuracy = []\n",
    "\n",
    "    for epoch in range(epochs):\n",
    "        running_loss = 0.0\n",
    "        correct_preds = 0\n",
    "        total_samples = 0\n",
    "        all_labels = []\n",
    "        all_preds = []\n",
    "\n",
    "        for inputs, _, labels in data_loader:\n",
    "            inputs, labels = inputs.to(device), labels.to(device)\n",
    "            optimizer.zero_grad()\n",
    "            outputs, _ = model(inputs)\n",
    "            \n",
    "            loss = criterion(outputs, labels)\n",
    "            loss.backward()\n",
    "            optimizer.step()\n",
    "\n",
    "            running_loss += loss.item()\n",
    "            _, predicted = torch.max(outputs, 1)\n",
    "            correct_preds += (predicted == labels).sum().item()\n",
    "            total_samples += labels.size(0)\n",
    "\n",
    "            all_labels.extend(labels.cpu().numpy())\n",
    "            all_preds.extend(predicted.cpu().numpy())\n",
    "\n",
    "        # Calculate metrics\n",
    "        epoch_loss = running_loss / len(data_loader)\n",
    "        epoch_acc = correct_preds / total_samples\n",
    "        training_loss.append(epoch_loss)\n",
    "        training_accuracy.append(epoch_acc)\n",
    "\n",
    "        precision = precision_score(all_labels, all_preds, average='macro')\n",
    "        recall = recall_score(all_labels, all_preds, average='macro')\n",
    "        f1 = f1_score(all_labels, all_preds, average='macro')\n",
    "\n",
    "        print(f\"Epoch [{epoch+1}/{epochs}] - Loss: {epoch_loss:.4f}, Accuracy: {epoch_acc:.4f}\")\n",
    "        print(f\"Precision: {precision:.4f}, Recall: {recall:.4f}, F1 Score: {f1:.4f}\")\n",
    "\n",
    "    return training_loss, training_accuracy"
   ]
  },
  {
   "cell_type": "code",
   "execution_count": 6,
   "metadata": {},
   "outputs": [],
   "source": [
    "# PART 4 - Plotting Training Metrics\n",
    "def plot_metrics(training_loss, training_accuracy):\n",
    "    epochs = range(1, len(training_loss) + 1)\n",
    "\n",
    "    plt.figure(figsize=(12, 5))\n",
    "\n",
    "    # Plot Loss\n",
    "    plt.subplot(1, 2, 1)\n",
    "    plt.plot(epochs, training_loss, label=\"Training Loss\")\n",
    "    plt.xlabel(\"Epochs\")\n",
    "    plt.ylabel(\"Loss\")\n",
    "    plt.title(\"Training Loss over Epochs\")\n",
    "    plt.legend()\n",
    "\n",
    "    # Plot Accuracy\n",
    "    plt.subplot(1, 2, 2)\n",
    "    plt.plot(epochs, training_accuracy, label=\"Training Accuracy\")\n",
    "    plt.xlabel(\"Epochs\")\n",
    "    plt.ylabel(\"Accuracy\")\n",
    "    plt.title(\"Training Accuracy over Epochs\")\n",
    "    plt.legend()\n",
    "\n",
    "    plt.show()"
   ]
  },
  {
   "cell_type": "code",
   "execution_count": null,
   "metadata": {},
   "outputs": [
    {
     "name": "stdout",
     "output_type": "stream",
     "text": [
      "Using device: cpu\n",
      "Epoch [1/1] - Loss: 0.8350, Accuracy: 0.7001\n",
      "Precision: 0.4894, Recall: 0.3310, F1 Score: 0.3485\n"
     ]
    },
    {
     "data": {
      "image/png": "[encoded data removed]",
      "text/plain": [
       "<Figure size 1200x500 with 2 Axes>"
      ]
     },
     "metadata": {},
     "output_type": "display_data"
    }
   ],
   "source": [
    "# PART 5 - Main Function\n",
    "if __name__ == \"__main__\":\n",
    "    # Use GPU if available\n",
    "    device = torch.device(\"cuda\" if torch.cuda.is_available() else \"cpu\")\n",
    "    print(f\"Using device: {device}\")\n",
    "\n",
    "    # Load pretrained YOLO and EfficientNet models\n",
    "    yolo_model = YOLO(\"yolo11n.pt\")\n",
    "    efficientnet_model = models.efficientnet_b0(weights=models.EfficientNet_B0_Weights.IMAGENET1K_V1)\n",
    "\n",
    "    # Initialize the hybrid model\n",
    "    hybrid_model = HybridYOLOEfficientNet(yolo_model, efficientnet_model).to(device)\n",
    "\n",
    "    # Define loss function and optimizer\n",
    "    criterion = torch.nn.CrossEntropyLoss()\n",
    "    optimizer = torch.optim.Adam(hybrid_model.parameters(), lr=0.001)\n",
    "\n",
    "    # Create DataLoader\n",
    "    train_loader = get_data_loader('train/_annotations.csv', 'train', batch_size=32, transform=transform)\n",
    "\n",
    "    # Train the model and capture metrics\n",
    "    training_loss, training_accuracy = train_model(hybrid_model, train_loader, criterion, optimizer, device, epochs=10)\n",
    "\n",
    "    # Plot the training metrics\n",
    "    plot_metrics(training_loss, training_accuracy)"
   ]
  }
 ],
 "metadata": {
  "kernelspec": {
   "display_name": "Python 3",
   "language": "python",
   "name": "python3"
  },
  "language_info": {
   "codemirror_mode": {
    "name": "ipython",
    "version": 3
   },
   "file_extension": ".py",
   "mimetype": "text/x-python",
   "name": "python",
   "nbconvert_exporter": "python",
   "pygments_lexer": "ipython3",
   "version": "3.12.4"
  }
 },
 "nbformat": 4,
 "nbformat_minor": 2
}
